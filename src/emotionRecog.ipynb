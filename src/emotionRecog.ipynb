{
 "cells": [
  {
   "cell_type": "markdown",
   "source": [
    "## Real Time Emotion Recognition"
   ],
   "metadata": {}
  },
  {
   "cell_type": "code",
   "execution_count": null,
   "source": [
    "import numpy as np\r\n",
    "import pandas as pd\r\n",
    "import matplotlib.pyplot as plt\r\n",
    "import cv2 as opencv\r\n",
    "# from fer import FER"
   ],
   "outputs": [],
   "metadata": {}
  },
  {
   "cell_type": "code",
   "execution_count": null,
   "source": [
    "img = opencv.imread(\"../images/im2.jpg\")"
   ],
   "outputs": [],
   "metadata": {}
  },
  {
   "cell_type": "code",
   "execution_count": null,
   "source": [
    "if img is None:\r\n",
    "    print(\"Unable to read image\")\r\n",
    "else:\r\n",
    "    opencv.imshow(\"Display Window\", img)\r\n",
    "\r\n",
    "opencv.waitKey(0)"
   ],
   "outputs": [
    {
     "output_type": "execute_result",
     "data": {
      "text/plain": [
       "-1"
      ]
     },
     "metadata": {},
     "execution_count": 3
    }
   ],
   "metadata": {}
  },
  {
   "cell_type": "code",
   "execution_count": null,
   "source": [
    "imgLineBg =  np.zeros((512,512,3), np.uint8)\r\n",
    "imgLine = opencv.line(imgLineBg,(0,0),(512,512),(255,0,0),5)\r\n",
    "opencv.imshow(\"Line\", imgLine)\r\n",
    "opencv.waitKey(0)"
   ],
   "outputs": [
    {
     "output_type": "execute_result",
     "data": {
      "text/plain": [
       "-1"
      ]
     },
     "metadata": {},
     "execution_count": 10
    }
   ],
   "metadata": {}
  },
  {
   "cell_type": "markdown",
   "source": [
    "## Accessing pixel values within an image"
   ],
   "metadata": {}
  },
  {
   "cell_type": "code",
   "execution_count": null,
   "source": [
    "img2 = opencv.imread(\"../images/im2.jpg\");"
   ],
   "outputs": [],
   "metadata": {}
  },
  {
   "cell_type": "code",
   "execution_count": null,
   "source": [
    "pixel = img2[100, 100]\r\n",
    "print(pixel)"
   ],
   "outputs": [
    {
     "output_type": "stream",
     "name": "stdout",
     "text": [
      "[207 195 193]\n"
     ]
    }
   ],
   "metadata": {}
  },
  {
   "cell_type": "code",
   "execution_count": null,
   "source": [
    "# Accessing the blue pixel\r\n",
    "bluepx = img2[100,100,0]\r\n",
    "print(bluepx);"
   ],
   "outputs": [
    {
     "output_type": "stream",
     "name": "stdout",
     "text": [
      "207\n"
     ]
    }
   ],
   "metadata": {}
  },
  {
   "cell_type": "markdown",
   "source": [
    "### Checking different color flags in opencv"
   ],
   "metadata": {}
  },
  {
   "cell_type": "code",
   "execution_count": null,
   "source": [
    "flags = [i for i in dir(opencv) if i.startswith(\"COLOR_\")]\r\n",
    "# print( flags )"
   ],
   "outputs": [],
   "metadata": {}
  },
  {
   "cell_type": "markdown",
   "source": [
    "## Color Masking in live video"
   ],
   "metadata": {}
  },
  {
   "cell_type": "code",
   "execution_count": 3,
   "source": [
    "import cv2 as opencv\r\n",
    "videoCapture = opencv.VideoCapture(0)\r\n",
    "\r\n",
    "while(1):\r\n",
    "    _, frame = videoCapture.read()\r\n",
    "\r\n",
    "    hsv = opencv.cvtColor(frame, opencv.COLOR_BGR2HSV)\r\n",
    "\r\n",
    "    lower_blue = np.array([110,50,50])\r\n",
    "    upper_blue = np.array([130,255,255])\r\n",
    "\r\n",
    "    mask = opencv.inRange(hsv, lower_blue, upper_blue)\r\n",
    "\r\n",
    "    filteredImage = opencv.bitwise_and(frame, frame, mask=mask)\r\n",
    "\r\n",
    "    opencv.imshow('frame', frame)\r\n",
    "    opencv.imshow('mask', mask)\r\n",
    "    opencv.imshow('filetered Image', filteredImage)\r\n",
    "\r\n",
    "    k = opencv.waitKey(5) & 0xFF\r\n",
    "    if k == 27:\r\n",
    "        break\r\n",
    "opencv.destroyAllWindows()\r\n",
    "\r\n"
   ],
   "outputs": [],
   "metadata": {}
  },
  {
   "cell_type": "code",
   "execution_count": 1,
   "source": [
    "import cv2 as cv\r\n",
    "import numpy as np\r\n",
    "cap = cv.VideoCapture(0)\r\n",
    "while(1):\r\n",
    "    # Take each frame\r\n",
    "    _, frame = cap.read()\r\n",
    "    # Convert BGR to HSV\r\n",
    "    hsv = cv.cvtColor(frame, cv.COLOR_BGR2HSV)\r\n",
    "    # define range of blue color in HSV\r\n",
    "    lower_blue = np.array([110,50,50])\r\n",
    "    upper_blue = np.array([130,255,255])\r\n",
    "    # Threshold the HSV image to get only blue colors\r\n",
    "    mask = cv.inRange(hsv, lower_blue, upper_blue)\r\n",
    "    # Bitwise-AND mask and original image\r\n",
    "    res = cv.bitwise_and(frame,frame, mask= mask)\r\n",
    "    cv.imshow('frame',frame)\r\n",
    "    cv.imshow('mask',mask)\r\n",
    "    cv.imshow('res',res)\r\n",
    "    k = cv.waitKey(5) & 0xFF\r\n",
    "    if k == 27:\r\n",
    "        break\r\n",
    "cv.destroyAllWindows()\r\n"
   ],
   "outputs": [],
   "metadata": {}
  },
  {
   "cell_type": "code",
   "execution_count": null,
   "source": [],
   "outputs": [],
   "metadata": {}
  }
 ],
 "metadata": {
  "orig_nbformat": 4,
  "language_info": {
   "name": "python",
   "version": "3.9.6",
   "mimetype": "text/x-python",
   "codemirror_mode": {
    "name": "ipython",
    "version": 3
   },
   "pygments_lexer": "ipython3",
   "nbconvert_exporter": "python",
   "file_extension": ".py"
  },
  "kernelspec": {
   "name": "python3",
   "display_name": "Python 3.9.6 64-bit ('env1': conda)"
  },
  "interpreter": {
   "hash": "b3de2f8474d2f4e7a561ae4477986fcdfab2b93f9c8d877f4be256fbbb6452f1"
  }
 },
 "nbformat": 4,
 "nbformat_minor": 2
}