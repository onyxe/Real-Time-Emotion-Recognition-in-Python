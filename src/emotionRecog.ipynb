{
 "cells": [
  {
   "cell_type": "markdown",
   "source": [
    "## Real Time Emotion Recognition"
   ],
   "metadata": {}
  },
  {
   "cell_type": "code",
   "execution_count": 1,
   "source": [
    "import numpy as np\r\n",
    "import pandas as pd\r\n",
    "import matplotlib.pyplot as plt\r\n",
    "import cv2 as opencv\r\n",
    "# from fer import FER"
   ],
   "outputs": [],
   "metadata": {}
  },
  {
   "cell_type": "code",
   "execution_count": 2,
   "source": [
    "img = opencv.imread(\"../images/im2.jpg\")"
   ],
   "outputs": [],
   "metadata": {}
  },
  {
   "cell_type": "code",
   "execution_count": 3,
   "source": [
    "if img is None:\r\n",
    "    print(\"Unable to read image\")\r\n",
    "else:\r\n",
    "    opencv.imshow(\"Display Window\", img)\r\n",
    "\r\n",
    "opencv.waitKey(0)"
   ],
   "outputs": [
    {
     "output_type": "execute_result",
     "data": {
      "text/plain": [
       "-1"
      ]
     },
     "metadata": {},
     "execution_count": 3
    }
   ],
   "metadata": {}
  },
  {
   "cell_type": "code",
   "execution_count": 10,
   "source": [
    "imgLineBg =  np.zeros((512,512,3), np.uint8)\r\n",
    "imgLine = opencv.line(imgLineBg,(0,0),(512,512),(255,0,0),5)\r\n",
    "opencv.imshow(\"Line\", imgLine)\r\n",
    "opencv.waitKey(0)"
   ],
   "outputs": [
    {
     "output_type": "execute_result",
     "data": {
      "text/plain": [
       "-1"
      ]
     },
     "metadata": {},
     "execution_count": 10
    }
   ],
   "metadata": {}
  },
  {
   "cell_type": "markdown",
   "source": [
    "## Accessing pixel values within an image"
   ],
   "metadata": {}
  },
  {
   "cell_type": "code",
   "execution_count": 11,
   "source": [
    "img2 = opencv.imread(\"../images/im2.jpg\");"
   ],
   "outputs": [],
   "metadata": {}
  },
  {
   "cell_type": "code",
   "execution_count": 12,
   "source": [
    "pixel = img2[100, 100]\r\n",
    "print(pixel)"
   ],
   "outputs": [
    {
     "output_type": "stream",
     "name": "stdout",
     "text": [
      "[207 195 193]\n"
     ]
    }
   ],
   "metadata": {}
  },
  {
   "cell_type": "code",
   "execution_count": 13,
   "source": [
    "# Accessing the blue pixel\r\n",
    "bluepx = img2[100,100,0]\r\n",
    "print(bluepx);"
   ],
   "outputs": [
    {
     "output_type": "stream",
     "name": "stdout",
     "text": [
      "207\n"
     ]
    }
   ],
   "metadata": {}
  },
  {
   "cell_type": "markdown",
   "source": [
    "### Checking different color flags in opencv"
   ],
   "metadata": {}
  },
  {
   "cell_type": "code",
   "execution_count": 19,
   "source": [
    "flags = [i for i in dir(opencv) if i.startswith(\"COLOR_\")]\r\n",
    "# print( flags )"
   ],
   "outputs": [],
   "metadata": {}
  },
  {
   "cell_type": "markdown",
   "source": [
    "## Color Masking in live video"
   ],
   "metadata": {}
  },
  {
   "cell_type": "markdown",
   "source": [],
   "metadata": {}
  }
 ],
 "metadata": {
  "orig_nbformat": 4,
  "language_info": {
   "name": "python",
   "version": "3.9.6",
   "mimetype": "text/x-python",
   "codemirror_mode": {
    "name": "ipython",
    "version": 3
   },
   "pygments_lexer": "ipython3",
   "nbconvert_exporter": "python",
   "file_extension": ".py"
  },
  "kernelspec": {
   "name": "python3",
   "display_name": "Python 3.9.6 64-bit ('env1': conda)"
  },
  "interpreter": {
   "hash": "b3de2f8474d2f4e7a561ae4477986fcdfab2b93f9c8d877f4be256fbbb6452f1"
  }
 },
 "nbformat": 4,
 "nbformat_minor": 2
}